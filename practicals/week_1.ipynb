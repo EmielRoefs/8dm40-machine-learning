{
 "cells": [
  {
   "cell_type": "markdown",
   "metadata": {},
   "source": [
    "# Getting started with the practicals\n",
    "\n",
    "***These notebooks are best viewed in Jupyter. GitHub might not display all content of the notebook properly.***\n",
    "\n",
    "## Goal of the practical exercises\n",
    "\n",
    "The exercises have two goals:\n",
    "\n",
    "1. Give you the opportunity to obtain 'hands-on' experience in implementing, training and evaluation machine learning models in Python. This experience will also help you better understand the theory covered during the lectures. \n",
    "\n",
    "2. Occasionally demonstrate some 'exam-style' questions that you can use as a reference when studying for the exam. Note however that the example questions are (as the name suggests) only examples and do not constitute a complete and sufficient list of 'things that you have to learn for the exam'. You can recognize example questions as (parts of) exercises by <font color=\"#770a0a\">this font color</font>.\n",
    "\n",
    "For each set of exercises (one Python notebook such as this one $==$ one set of exercises) you have to submit deliverables that will then be graded and constitute 25% of the final grade. Thus, the work that you do during the practicals has double contribution towards the final grade: as 30% direct contribution and as a preparation for the exam that will define the other 65% of the grade.\n",
    "\n",
    "## Deliverables\n",
    "\n",
    "For each set of exercises, you have to submit:\n",
    "1. Python functions and/or classes (`.py` files) that implement basic functionalities (e.g. a $k$-NN classifier) and \n",
    "2. A *single* Python notebook that contains the experiments, visualization and answer to the questions and math problems. *Do not submit your answers as Word or PDF documents (they will not be graded)*. The submitted code and notebook should run without errors and be able to fully reproduce the reported results.\n",
    "\n",
    "We recommend that you clone the provided notebooks (such as this one) and write your code in them. The following rubric will be used when grading the practical work:\n",
    "\n",
    "Component  | Insufficient | Satisfactory | Excellent\n",
    "--- | --- | --- | ---\n",
    "**Code** | Missing or incomplete code structure, runs with errors, lacks documentation | Self-contained, does not result in errors, contains some documentation, can be easily used to reproduce the reported results | User-friendly, well-structured (good separation of general functionality and experiments, i.e. between `.py` files and the Pyhthon notebook), detailed documentation, optimized for speed, use of a version control system (such as GitHub)\n",
    "**Answers to questions** | Incorrect, does not convey understanding of the material, appears to be copied from another source | Correct, conveys good understanding of the material, description in own words | Correct, conveys excellent level of understanding, makes connections between topics\n",
    "\n",
    "## A word on notation\n",
    "\n",
    "When we refer to Python variables, we will use a monospace font. For example, `X` is a Python variable that contains the data matrix. When we refer to mathematical variables, we will use the de-facto standard notation: $a$ or $\\lambda$ is a scalar variable, $\\boldsymbol{\\mathrm{w}}$ is a vector and $\\boldsymbol{\\mathrm{X}}$ is a matrix (e.g. a data matrix from the example above). You should use the same notation when writing your answers and solutions.\n",
    "\n",
    "# Two simple machine learning models\n",
    "\n",
    "## Preliminaries\n",
    "\n",
    "Throughout the practical curriculum of this course, we will use the Python programming language and its ecosystem of libraries for scientific computing (such as `numpy`, `scipy`, `matplotlib`, `scikit-learn` etc). The practicals for the deep learning part of the course will use the `keras` deep learning framework. If you are not sufficiently familiar with this programming language and/or the listed libraries and packages, you are strongly advised to go over the corresponding tutorials from the ['Essential skills'](https://github.com/tueimage/essential-skills) module (the `scikit-learn` library is not covered by the tutorial, however, an extensive documentation is available [here](https://scikit-learn.org/stable/documentation.html).\n",
    "\n",
    "In this first set of exercises, we will use two toy datasets that ship together with `scikit-learn`. \n",
    "\n",
    "The first dataset is named `diabetes` and contains 442 patients described with 10 features: age, sex, body mass index, average blood pressure, and six blood serum measurements. The target variable is a continuous quantitative measure of the disease (diabetes) progression one year after the baseline measurements were recorded. More information is available [here](https://github.com/scikit-learn/scikit-learn/blob/master/sklearn/datasets/descr/diabetes.rst) and [here](https://www4.stat.ncsu.edu/~boos/var.select/diabetes.html).\n",
    "\n",
    "The second dataset is named `breast_cancer` and is a copy of the UCI ML Breast Cancer Wisconsin (Diagnostic) datasets (more infortmation is available [here](https://github.com/scikit-learn/scikit-learn/blob/master/sklearn/datasets/descr/breast_cancer.rst) and [here](https://archive.ics.uci.edu/ml/datasets/Breast+Cancer+Wisconsin+(Diagnostic)). The datasets contains of 569 instances represented with 30 features that are computed from a images of a fine needle aspirate of a breast mass. The features describe characteristics of the cell nuclei present in the image. Each instance is associated with a binary target variable ('malignant' or 'benign'). \n",
    "\n",
    "You can load the two datasets in the following way:"
   ]
  },
  {
   "cell_type": "code",
   "execution_count": 3,
   "metadata": {
    "collapsed": true
   },
   "outputs": [],
   "source": [
    "import numpy as np\n",
    "from sklearn.datasets import load_diabetes, load_breast_cancer\n",
    "\n",
    "diabetes = load_diabetes()\n",
    "\n",
    "breast_cancer = load_breast_cancer()"
   ]
  },
  {
   "cell_type": "markdown",
   "metadata": {},
   "source": [
    "In the majority of the exercises in this course, we will use higher-level libraries and packages such as `scikit-learn` and `keras` to implement, train and evaluate machine learning models. However, the goal of this first set of exercises is to illustrate basic mathematical tools and machine learning concepts. Because of this, we will impose a restriction of only using basic `numpy` functionality. Furthermore, you should as much as possible restrict the use of for-loops (e.g. use a vector-to-matrix product instead of a for loop when appropriate).\n",
    "\n",
    "If `X` is a 2D data matrix, we will use the convention that the rows of the matrix contain the samples (or instances) and the columns contain the features (inputs to the model). That means that a data matrix with a shape `(122, 13)` represents a dataset with 122 samples, each represented with 13 features. Similarly, if `Y` is a 2D matrix containing the targets, the rows correspond to the samples and the columns to the different targets (outputs of the model). Thus, if the shape of `Y` is `(122, 3)` that means that there are 122 samples and each sample is has 3 targets (note that in the majority of the examples we will only have a single target and thus the number of columns of `Y` will be 1).\n",
    "\n",
    "You can obtain the data and target matrices from the two datasets in the following way:"
   ]
  },
  {
   "cell_type": "code",
   "execution_count": 8,
   "metadata": {},
   "outputs": [
    {
     "name": "stdout",
     "output_type": "stream",
     "text": [
      "(442, 10)\n",
      "(442, 1)\n",
      "[ 0.03807591 -0.00188202  0.08529891 -0.08906294  0.00538306 -0.09269548\n",
      " -0.04547248  0.06350368  0.04170844 -0.07090025 -0.09632802  0.02717829\n",
      "  0.01628068  0.00538306  0.04534098 -0.05273755 -0.00551455  0.07076875\n",
      " -0.0382074  -0.02730979 -0.04910502 -0.0854304  -0.0854304   0.04534098\n",
      " -0.06363517 -0.06726771 -0.10722563 -0.02367725  0.05260606  0.06713621\n",
      " -0.06000263 -0.02367725  0.03444337  0.03081083  0.01628068  0.04897352\n",
      "  0.01264814 -0.00914709 -0.00188202 -0.00188202  0.00538306 -0.09996055\n",
      " -0.06000263  0.01991321  0.04534098  0.02717829 -0.05637009 -0.07816532\n",
      "  0.06713621 -0.04183994  0.03444337  0.05987114 -0.05273755 -0.00914709\n",
      " -0.04910502 -0.04183994 -0.04183994 -0.02730979  0.04170844  0.06350368\n",
      " -0.07090025 -0.04183994 -0.02730979 -0.03457486  0.06713621 -0.04547248\n",
      " -0.00914709  0.04170844  0.03807591  0.01628068 -0.00188202 -0.00188202\n",
      "  0.06350368  0.01264814  0.01264814 -0.00914709 -0.03094232 -0.09632802\n",
      "  0.00538306 -0.10359309  0.07076875  0.01264814 -0.01641217 -0.0382074\n",
      "  0.00175052  0.04534098 -0.07090025  0.04534098 -0.05273755 -0.04547248\n",
      "  0.01264814  0.04534098 -0.02004471 -0.04910502 -0.07816532 -0.07090025\n",
      "  0.0562386  -0.02730979  0.00175052 -0.00188202  0.01628068  0.01628068\n",
      " -0.09269548  0.05987114 -0.02730979  0.02354575 -0.09632802  0.02717829\n",
      "  0.01991321  0.03807591  0.04170844  0.01991321 -0.0854304   0.01991321\n",
      "  0.02354575 -0.03094232  0.04897352  0.05987114 -0.05637009  0.01628068\n",
      " -0.04910502  0.06350368  0.04897352  0.00538306 -0.00551455 -0.00551455\n",
      " -0.08906294  0.03444337 -0.05273755  0.0090156  -0.06363517 -0.09632802\n",
      "  0.01628068 -0.04183994 -0.07453279 -0.00551455 -0.09269548  0.00538306\n",
      "  0.03444337  0.02354575  0.04170844 -0.02730979  0.04170844 -0.03094232\n",
      "  0.03081083 -0.04183994 -0.03094232 -0.05637009 -0.06000263 -0.04910502\n",
      "  0.02354575  0.00175052 -0.03457486  0.04170844  0.06713621 -0.02730979\n",
      " -0.01641217 -0.00188202 -0.01277963 -0.00551455 -0.00914709 -0.04547248\n",
      " -0.05273755  0.01628068  0.04534098 -0.04183994 -0.05637009  0.07076875\n",
      "  0.00175052 -0.00188202  0.02354575 -0.02004471  0.04170844 -0.06363517\n",
      "  0.01628068  0.06713621  0.04534098  0.04897352  0.04170844 -0.02367725\n",
      " -0.0382074   0.04897352  0.04534098  0.04534098  0.01628068 -0.07453279\n",
      " -0.08179786 -0.06726771  0.00538306 -0.00188202  0.0090156  -0.00551455\n",
      "  0.0562386   0.0090156  -0.06726771  0.02717829 -0.02367725  0.04897352\n",
      " -0.05273755  0.04170844  0.0562386  -0.03457486  0.08166637 -0.00188202\n",
      "  0.11072668 -0.03094232  0.00175052  0.0090156   0.03081083  0.03807591\n",
      "  0.0090156   0.09256398  0.06713621  0.00175052  0.03081083  0.02717829\n",
      "  0.01264814  0.07440129 -0.04183994 -0.08906294  0.02354575 -0.04547248\n",
      " -0.02367725 -0.09996055 -0.02730979  0.03081083 -0.10359309  0.06713621\n",
      " -0.05273755 -0.02730979 -0.0382074   0.0090156   0.01264814  0.06713621\n",
      "  0.04534098  0.06713621  0.02717829  0.0562386   0.03444337  0.02354575\n",
      "  0.04897352  0.03081083 -0.10359309  0.01628068 -0.06000263 -0.02730979\n",
      "  0.04170844 -0.08179786 -0.04183994 -0.01277963  0.06713621 -0.05273755\n",
      "  0.00538306  0.08166637  0.03081083  0.00175052 -0.04910502 -0.02730979\n",
      "  0.07803383  0.01264814  0.04170844  0.04897352 -0.01641217 -0.07453279\n",
      "  0.03444337 -0.03457486 -0.05273755  0.05987114  0.06350368  0.0090156\n",
      "  0.00538306  0.03807591  0.01264814  0.07440129  0.01628068 -0.00551455\n",
      "  0.01264814 -0.03457486  0.06713621  0.03807591  0.0090156  -0.09269548\n",
      "  0.07076875 -0.01641217  0.04170844  0.01264814 -0.0382074   0.04534098\n",
      "  0.07076875 -0.07453279  0.05987114  0.07440129  0.0090156  -0.07090025\n",
      "  0.02354575 -0.05273755  0.06713621  0.00175052  0.02354575  0.03807591\n",
      "  0.01628068 -0.00188202  0.01264814  0.07440129  0.04170844 -0.00914709\n",
      "  0.0090156   0.06713621  0.00175052 -0.00914709 -0.00551455  0.09619652\n",
      " -0.07453279  0.05987114 -0.02367725  0.0090156   0.01628068  0.01991321\n",
      "  0.08893144  0.01991321 -0.02367725  0.09619652  0.02354575  0.07076875\n",
      "  0.03081083 -0.00188202  0.04534098  0.07440129 -0.0382074  -0.01277963\n",
      "  0.0090156   0.08166637  0.03081083  0.02717829 -0.06000263  0.00538306\n",
      " -0.02004471  0.01991321 -0.06363517  0.02717829 -0.01641217  0.03081083\n",
      "  0.0562386  -0.02004471 -0.10722563  0.08166637  0.00538306  0.03807591\n",
      "  0.03081083  0.00175052 -0.02730979 -0.0854304   0.01264814 -0.05273755\n",
      " -0.02367725 -0.07453279 -0.00551455 -0.06000263 -0.02004471  0.03807591\n",
      "  0.01628068  0.04170844  0.01991321 -0.04910502  0.00175052  0.03444337\n",
      " -0.04547248 -0.00914709 -0.01641217 -0.00914709  0.01991321  0.05260606\n",
      " -0.02730979 -0.07453279 -0.10722563  0.04534098 -0.00188202  0.01991321\n",
      "  0.01628068 -0.00188202  0.01628068 -0.07090025  0.04897352  0.00538306\n",
      "  0.03444337  0.02354575  0.01991321 -0.04547248  0.05260606 -0.00551455\n",
      "  0.0090156  -0.02367725 -0.04183994 -0.07453279  0.03444337 -0.06000263\n",
      " -0.0854304   0.05260606  0.01264814  0.05987114 -0.02367725  0.01628068\n",
      "  0.11072668 -0.02004471 -0.01641217  0.04897352 -0.05637009  0.02717829\n",
      "  0.06350368 -0.05273755 -0.00914709  0.00538306  0.07440129 -0.05273755\n",
      "  0.08166637 -0.00551455 -0.02730979 -0.05273755  0.0090156  -0.02004471\n",
      "  0.02354575  0.03807591 -0.07816532  0.0090156   0.00175052 -0.07816532\n",
      "  0.03081083 -0.03457486  0.04897352 -0.04183994 -0.00914709  0.07076875\n",
      "  0.0090156  -0.02730979  0.01628068 -0.01277963 -0.05637009  0.04170844\n",
      " -0.00551455  0.04170844 -0.04547248 -0.04547248]\n"
     ]
    }
   ],
   "source": [
    "X = diabetes.data\n",
    "Y = diabetes.target[:, np.newaxis]\n",
    "\n",
    "print(X.shape)\n",
    "print(Y.shape)"
   ]
  },
  {
   "cell_type": "markdown",
   "metadata": {},
   "source": [
    "If you want to only use a subset of the available features, you can obtain a reduced data matrix in the following way:"
   ]
  },
  {
   "cell_type": "code",
   "execution_count": 5,
   "metadata": {
    "scrolled": true
   },
   "outputs": [
    {
     "name": "stdout",
     "output_type": "stream",
     "text": [
      "(442, 1)\n",
      "(442, 2)\n"
     ]
    }
   ],
   "source": [
    "# use only the fourth feature\n",
    "X = diabetes.data[:, np.newaxis, 3]\n",
    "print(X.shape)\n",
    "\n",
    "# use the third, and tenth features\n",
    "X = diabetes.data[:, (3,9)]\n",
    "print(X.shape)"
   ]
  },
  {
   "cell_type": "markdown",
   "metadata": {},
   "source": [
    "***Question***: Why we need to use the `np.newaxis` expression in the examples above? \n",
    "\n",
    "Note that in all your experiments in the exercises, you should use and independent training and testing sets. You can split the dataset into a training and testing subsets in the following way:"
   ]
  },
  {
   "cell_type": "code",
   "execution_count": 6,
   "metadata": {},
   "outputs": [
    {
     "name": "stdout",
     "output_type": "stream",
     "text": [
      "(300, 1)\n",
      "(300, 1)\n",
      "(142, 1)\n",
      "(142, 1)\n"
     ]
    }
   ],
   "source": [
    "# use the fourth feature\n",
    "# use the first 300 training samples for training, and the rest for testing\n",
    "X_train = diabetes.data[:300, np.newaxis, 3]\n",
    "y_train = diabetes.target[:300, np.newaxis]\n",
    "X_test = diabetes.data[300:, np.newaxis, 3]\n",
    "y_test = diabetes.target[300:, np.newaxis]\n",
    "print(X_train.shape)\n",
    "print(y_train.shape)\n",
    "print(X_test.shape)\n",
    "print(y_test.shape)"
   ]
  },
  {
   "cell_type": "markdown",
   "metadata": {},
   "source": [
    "## Exercises\n",
    "\n",
    "### Linear regression\n",
    "\n",
    "Implement training and evaluation of a linear regression model on the diabetes dataset using only matrix multiplication, inversion and transpose operations. Report the mean squared error of the model.\n",
    "\n",
    "To get you started we have implemented the first part of this exercise (fitting of the model) as an example."
   ]
  },
  {
   "cell_type": "code",
   "execution_count": 7,
   "metadata": {},
   "outputs": [
    {
     "name": "stdout",
     "output_type": "stream",
     "text": [
      "[[ 152.34786452]\n",
      " [ -16.57607993]\n",
      " [-254.66532396]\n",
      " [ 560.98630022]\n",
      " [ 278.91811152]\n",
      " [-393.41357305]\n",
      " [  97.05460405]\n",
      " [ -19.0023093 ]\n",
      " [ 169.46450327]\n",
      " [ 632.95050374]\n",
      " [ 114.21638941]]\n"
     ]
    }
   ],
   "source": [
    "# add subfolder that contains all the function implementations\n",
    "# to the system path so we can import them\n",
    "import sys\n",
    "sys.path.append('code/')\n",
    "\n",
    "# the actual implementation is in linear_regression.py,\n",
    "# here we will just use it to fit a model\n",
    "from linear_regression import *\n",
    "\n",
    "# load the dataset\n",
    "# same as before, but now we use all features\n",
    "X_train = diabetes.data[:300, :]\n",
    "y_train = diabetes.target[:300, np.newaxis]\n",
    "X_test = diabetes.data[300:, :]\n",
    "y_test = diabetes.target[300:, np.newaxis]\n",
    "\n",
    "beta = lsq(X_train, y_train)\n",
    "\n",
    "# print the parameters\n",
    "print(beta)\n",
    "\n",
    "# add mse (Kars)\n"
   ]
  },
  {
   "cell_type": "markdown",
   "metadata": {},
   "source": [
    "### Weighted linear regression\n",
    "\n",
    "Assume that in the dataset that you use to train a linear regression model, there are identical versions of some samples. This problem can be reformulated to a weighted linear regression problem where the matrices $\\boldsymbol{\\mathrm{X}}$ and $\\boldsymbol{\\mathrm{Y}}$ (or the vector $\\boldsymbol{\\mathrm{y}}$ if there is only a single target/output variable) contain only the unique data samples, and a vector $\\boldsymbol{\\mathrm{d}}$ is introduced that gives more weight to samples that appear multiple times in the original dataset (for example, the sample that appears 3 times has a corresponding weight of 3). \n",
    "\n",
    "<p><font color='#770a0a'>Derive the expression for the least-squares solution of a weighted linear regression model (note that in addition to the matrices $\\boldsymbol{\\mathrm{X}}$ and $\\boldsymbol{\\mathrm{Y}}$, the solution should include a vector of weights $\\boldsymbol{\\mathrm{d}}$).</font></p>"
   ]
  },
  {
   "cell_type": "code",
   "execution_count": null,
   "metadata": {
    "collapsed": true
   },
   "outputs": [],
   "source": [
    "# add ls solution for weighted linear regression with weights (Kars)"
   ]
  },
  {
   "cell_type": "markdown",
   "metadata": {},
   "source": [
    "### $k$-NN classification\n",
    "\n",
    "Implement a $k$-Nearest neighbors classifier from scratch in Python using only basic matrix operations with `numpy` and `scipy`. Train and evaluate the classifier on the breast cancer dataset, using all features. Show the performance of the classifier for different values of $k$ (plot the results in a graph). Note that for optimal results, you should normalize the features (e.g. to the $[0, 1]$ range or to have a zero mean and unit standard deviation)."
   ]
  },
  {
   "cell_type": "code",
   "execution_count": 14,
   "metadata": {},
   "outputs": [
    {
     "name": "stdout",
     "output_type": "stream",
     "text": [
      "The AUC of the ROC for k=5 is:   0.9397435897435897\n"
     ]
    },
    {
     "data": {
      "text/plain": [
       "<function matplotlib.pyplot.show>"
      ]
     },
     "execution_count": 14,
     "metadata": {},
     "output_type": "execute_result"
    },
    {
     "data": {
      "image/png": "[encoded data removed]",
      "text/plain": [
       "<Figure size 432x288 with 1 Axes>"
      ]
     },
     "metadata": {},
     "output_type": "display_data"
    }
   ],
   "source": [
    "import sys\n",
    "sys.path.append('code/')\n",
    "from kNN import *\n",
    "\n",
    "from sklearn.datasets import load_breast_cancer\n",
    "breast_cancer = load_breast_cancer()\n",
    "X_train = breast_cancer.data[:400, :]\n",
    "y_train = breast_cancer.target[:400, np.newaxis]\n",
    "X_test = breast_cancer.data[400:, :]\n",
    "y_test = breast_cancer.target[400:, np.newaxis]\n",
    "\n",
    "# implementation can be found in kNN.py\n",
    "k = 5\n",
    "roc_auc, predicted_y = classification(X_train,y_train,X_test,y_test,k)\n",
    "print('The AUC of the ROC for k=5 is:  ', roc_auc)\n",
    "\n",
    "# kNN for multiple k\n",
    "%matplotlib inline\n",
    "import matplotlib.pyplot as plt\n",
    "import numpy as np\n",
    "roc_all = np.zeros([25,1])\n",
    "x = np.zeros([25,1])\n",
    "for k in range(1,25):\n",
    "    roc_auc, predicted_y = classification(X_train,y_train,X_test,y_test,k)\n",
    "    roc_all[k] = roc_auc\n",
    "    x[k] = k\n",
    "    \n",
    "plt.figure()\n",
    "plt.plot(x[1:25],roc_all[1:25])\n",
    "plt.xlabel('k')\n",
    "plt.ylabel('AUC of ROC')\n",
    "plt.xlim([1,25])\n",
    "plt.show\n"
   ]
  },
  {
   "cell_type": "markdown",
   "metadata": {},
   "source": [
    "### $k$-NN regression\n",
    "\n",
    "Modify the $k$-NN implementation to do regression instead of classification. Compare the performance of the linear regression model and the $k$-NN regression model on the diabetes dataset for different values of $k$.."
   ]
  },
  {
   "cell_type": "code",
   "execution_count": null,
   "metadata": {
    "collapsed": true
   },
   "outputs": [],
   "source": [
    "# Emiel"
   ]
  },
  {
   "cell_type": "markdown",
   "metadata": {},
   "source": [
    "### Class-conditional probability\n",
    "\n",
    "Compute and visualize the class-conditional probability (conditional probability where the class label is the conditional variable, i.e. $P(X = x \\mid Y = y)$ for all features in the breast cancer dataset. Assume a Gaussian distribution.\n",
    "\n",
    "<p><font color='#770a0a'>Based on visual analysis of the plots, which individual feature can best discriminate between the two classes? Motivate your answer.</font></p>\n",
    "\n"
   ]
  },
  {
   "cell_type": "code",
   "execution_count": null,
   "metadata": {
    "collapsed": true
   },
   "outputs": [],
   "source": [
    "# Camiel"
   ]
  }
 ],
 "metadata": {
  "kernelspec": {
   "display_name": "Python 3",
   "language": "python",
   "name": "python3"
  },
  "language_info": {
   "codemirror_mode": {
    "name": "ipython",
    "version": 3
   },
   "file_extension": ".py",
   "mimetype": "text/x-python",
   "name": "python",
   "nbconvert_exporter": "python",
   "pygments_lexer": "ipython3",
   "version": "3.6.3"
  }
 },
 "nbformat": 4,
 "nbformat_minor": 2
}
